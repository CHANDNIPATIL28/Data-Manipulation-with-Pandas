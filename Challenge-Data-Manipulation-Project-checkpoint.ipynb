{
 "cells": [
  {
   "cell_type": "markdown",
   "id": "aeddf380",
   "metadata": {},
   "source": [
    " # This Is Jeopardy!\n",
    "\n",
    "We will work to write several functions that investigate a dataset of Jeopardy! questions and answers. Filter the dataset for topics that we’re interested in, compute the average difficulty of those questions, and train to become the next Jeopardy champion!"
   ]
  },
  {
   "cell_type": "code",
   "execution_count": 1,
   "id": "2ee66ddb",
   "metadata": {},
   "outputs": [],
   "source": [
    "import pandas as pd\n"
   ]
  },
  {
   "cell_type": "code",
   "execution_count": 2,
   "id": "12c8c777",
   "metadata": {},
   "outputs": [],
   "source": [
    "# Loading the data and investigating it\n",
    "df = pd.read_csv('jeopardy.csv')"
   ]
  },
  {
   "cell_type": "code",
   "execution_count": 6,
   "id": "216febc5",
   "metadata": {},
   "outputs": [
    {
     "data": {
      "text/html": [
       "<div>\n",
       "<style scoped>\n",
       "    .dataframe tbody tr th:only-of-type {\n",
       "        vertical-align: middle;\n",
       "    }\n",
       "\n",
       "    .dataframe tbody tr th {\n",
       "        vertical-align: top;\n",
       "    }\n",
       "\n",
       "    .dataframe thead th {\n",
       "        text-align: right;\n",
       "    }\n",
       "</style>\n",
       "<table border=\"1\" class=\"dataframe\">\n",
       "  <thead>\n",
       "    <tr style=\"text-align: right;\">\n",
       "      <th></th>\n",
       "      <th>Show Number</th>\n",
       "      <th>Air Date</th>\n",
       "      <th>Round</th>\n",
       "      <th>Category</th>\n",
       "      <th>Value</th>\n",
       "      <th>Question</th>\n",
       "      <th>Answer</th>\n",
       "    </tr>\n",
       "  </thead>\n",
       "  <tbody>\n",
       "    <tr>\n",
       "      <th>0</th>\n",
       "      <td>4680</td>\n",
       "      <td>2004-12-31</td>\n",
       "      <td>Jeopardy!</td>\n",
       "      <td>HISTORY</td>\n",
       "      <td>$200</td>\n",
       "      <td>For the last 8 years of his life, Galileo was ...</td>\n",
       "      <td>Copernicus</td>\n",
       "    </tr>\n",
       "    <tr>\n",
       "      <th>1</th>\n",
       "      <td>4680</td>\n",
       "      <td>2004-12-31</td>\n",
       "      <td>Jeopardy!</td>\n",
       "      <td>ESPN's TOP 10 ALL-TIME ATHLETES</td>\n",
       "      <td>$200</td>\n",
       "      <td>No. 2: 1912 Olympian; football star at Carlisl...</td>\n",
       "      <td>Jim Thorpe</td>\n",
       "    </tr>\n",
       "    <tr>\n",
       "      <th>2</th>\n",
       "      <td>4680</td>\n",
       "      <td>2004-12-31</td>\n",
       "      <td>Jeopardy!</td>\n",
       "      <td>EVERYBODY TALKS ABOUT IT...</td>\n",
       "      <td>$200</td>\n",
       "      <td>The city of Yuma in this state has a record av...</td>\n",
       "      <td>Arizona</td>\n",
       "    </tr>\n",
       "    <tr>\n",
       "      <th>3</th>\n",
       "      <td>4680</td>\n",
       "      <td>2004-12-31</td>\n",
       "      <td>Jeopardy!</td>\n",
       "      <td>THE COMPANY LINE</td>\n",
       "      <td>$200</td>\n",
       "      <td>In 1963, live on \"The Art Linkletter Show\", th...</td>\n",
       "      <td>McDonald's</td>\n",
       "    </tr>\n",
       "    <tr>\n",
       "      <th>4</th>\n",
       "      <td>4680</td>\n",
       "      <td>2004-12-31</td>\n",
       "      <td>Jeopardy!</td>\n",
       "      <td>EPITAPHS &amp; TRIBUTES</td>\n",
       "      <td>$200</td>\n",
       "      <td>Signer of the Dec. of Indep., framer of the Co...</td>\n",
       "      <td>John Adams</td>\n",
       "    </tr>\n",
       "  </tbody>\n",
       "</table>\n",
       "</div>"
      ],
      "text/plain": [
       "   Show Number    Air Date      Round                         Category Value  \\\n",
       "0         4680  2004-12-31  Jeopardy!                          HISTORY  $200   \n",
       "1         4680  2004-12-31  Jeopardy!  ESPN's TOP 10 ALL-TIME ATHLETES  $200   \n",
       "2         4680  2004-12-31  Jeopardy!      EVERYBODY TALKS ABOUT IT...  $200   \n",
       "3         4680  2004-12-31  Jeopardy!                 THE COMPANY LINE  $200   \n",
       "4         4680  2004-12-31  Jeopardy!              EPITAPHS & TRIBUTES  $200   \n",
       "\n",
       "                                            Question      Answer  \n",
       "0  For the last 8 years of his life, Galileo was ...  Copernicus  \n",
       "1  No. 2: 1912 Olympian; football star at Carlisl...  Jim Thorpe  \n",
       "2  The city of Yuma in this state has a record av...     Arizona  \n",
       "3  In 1963, live on \"The Art Linkletter Show\", th...  McDonald's  \n",
       "4  Signer of the Dec. of Indep., framer of the Co...  John Adams  "
      ]
     },
     "execution_count": 6,
     "metadata": {},
     "output_type": "execute_result"
    }
   ],
   "source": [
    "df.head()"
   ]
  },
  {
   "cell_type": "code",
   "execution_count": 4,
   "id": "cc3dbbea",
   "metadata": {},
   "outputs": [
    {
     "name": "stdout",
     "output_type": "stream",
     "text": [
      "Show Number     int64\n",
      " Air Date      object\n",
      " Round         object\n",
      " Category      object\n",
      " Value         object\n",
      " Question      object\n",
      " Answer        object\n",
      "dtype: object\n"
     ]
    }
   ],
   "source": [
    "print(df.dtypes)"
   ]
  },
  {
   "cell_type": "code",
   "execution_count": 5,
   "id": "0d3fc7fc",
   "metadata": {},
   "outputs": [
    {
     "name": "stdout",
     "output_type": "stream",
     "text": [
      "Show Number     int64\n",
      "Air Date       object\n",
      "Round          object\n",
      "Category       object\n",
      "Value          object\n",
      "Question       object\n",
      "Answer         object\n",
      "dtype: object\n"
     ]
    }
   ],
   "source": [
    "# Renaming misformatted columns\n",
    "df.columns = ['Show Number','Air Date','Round','Category','Value','Question','Answer']\n",
    "print(df.dtypes)"
   ]
  },
  {
   "cell_type": "code",
   "execution_count": 8,
   "id": "6a3c08c5",
   "metadata": {},
   "outputs": [
    {
     "name": "stdout",
     "output_type": "stream",
     "text": [
      "<class 'pandas.core.frame.DataFrame'>\n",
      "RangeIndex: 216930 entries, 0 to 216929\n",
      "Data columns (total 7 columns):\n",
      " #   Column       Non-Null Count   Dtype \n",
      "---  ------       --------------   ----- \n",
      " 0   Show Number  216930 non-null  int64 \n",
      " 1   Air Date     216930 non-null  object\n",
      " 2   Round        216930 non-null  object\n",
      " 3   Category     216930 non-null  object\n",
      " 4   Value        216930 non-null  object\n",
      " 5   Question     216930 non-null  object\n",
      " 6   Answer       216930 non-null  object\n",
      "dtypes: int64(1), object(6)\n",
      "memory usage: 11.6+ MB\n",
      "None\n"
     ]
    }
   ],
   "source": [
    "# Filling missing values is Answer column\n",
    "df = df.fillna(value ={'Answer':\"Null\"})\n",
    "print(df.info())"
   ]
  },
  {
   "cell_type": "code",
   "execution_count": 9,
   "id": "1cc0a21f",
   "metadata": {},
   "outputs": [
    {
     "name": "stdout",
     "output_type": "stream",
     "text": [
      "0    200\n",
      "1    200\n",
      "2    200\n",
      "3    200\n",
      "4    200\n",
      "Name: Value, dtype: int64\n"
     ]
    }
   ],
   "source": [
    "# Converting Value column from string to int\n",
    "df.Value = df.Value.replace('None',0)\n",
    "df.Value = df.Value.replace('[\\$,]','',regex = True)\n",
    "df.Value = pd.to_numeric(df.Value)\n",
    "print(df.Value.head())\n"
   ]
  },
  {
   "cell_type": "code",
   "execution_count": 7,
   "id": "70296e6b",
   "metadata": {},
   "outputs": [
    {
     "data": {
      "text/plain": [
       "<bound method NDFrame.head of 0        2004-12-31\n",
       "1        2004-12-31\n",
       "2        2004-12-31\n",
       "3        2004-12-31\n",
       "4        2004-12-31\n",
       "            ...    \n",
       "216925   2006-05-11\n",
       "216926   2006-05-11\n",
       "216927   2006-05-11\n",
       "216928   2006-05-11\n",
       "216929   2006-05-11\n",
       "Name: Air Date, Length: 216930, dtype: datetime64[ns]>"
      ]
     },
     "execution_count": 7,
     "metadata": {},
     "output_type": "execute_result"
    }
   ],
   "source": [
    "# Converting Date column from string to datetime\n",
    "df['Air Date'] = pd.to_datetime(df['Air Date'])\n",
    "df['Air Date'].head\n"
   ]
  },
  {
   "cell_type": "code",
   "execution_count": 11,
   "id": "c77b633f",
   "metadata": {},
   "outputs": [
    {
     "name": "stdout",
     "output_type": "stream",
     "text": [
      "0               For the last 8 years of his life, Galileo was under house arrest for espousing this man's theory\n",
      "1    No. 2: 1912 Olympian; football star at Carlisle Indian School; 6 MLB seasons with the Reds, Giants & Braves\n",
      "2                       The city of Yuma in this state has a record average of 4,055 hours of sunshine each year\n",
      "3                           In 1963, live on \"The Art Linkletter Show\", this company served its billionth burger\n",
      "4       Signer of the Dec. of Indep., framer of the Constitution of Mass., second President of the United States\n",
      "Name: Question, dtype: object\n"
     ]
    }
   ],
   "source": [
    "# replacing Hyperlinks from quetions column\n",
    "df.Question = df.Question.replace('<a.*</a>','',regex = True)\n",
    "print(df.Question.head())"
   ]
  },
  {
   "cell_type": "code",
   "execution_count": 12,
   "id": "c8af7c79",
   "metadata": {},
   "outputs": [
    {
     "name": "stdout",
     "output_type": "stream",
     "text": [
      "['Jeopardy!' 'Double Jeopardy!' 'Final Jeopardy!' 'Tiebreaker']\n"
     ]
    }
   ],
   "source": [
    "print(df.Round.unique())"
   ]
  },
  {
   "cell_type": "code",
   "execution_count": 9,
   "id": "31095771",
   "metadata": {},
   "outputs": [
    {
     "name": "stdout",
     "output_type": "stream",
     "text": [
      "<bound method IndexOpsMixin.nunique of 4953      Both England's King George V & FDR put their s...\n",
      "27555     This member of the Medici family was the mothe...\n",
      "28570     The IV king of this name (following the Norman...\n",
      "41357     England's King Henry VIII had 3 wives named Ca...\n",
      "43122                The father of England's King Edward VI\n",
      "51565     He wrote several anthems, including \"The King ...\n",
      "52184     (<a href=\"http://www.j-archive.com/media/2010-...\n",
      "54982     When England's Queen Anne died, this German be...\n",
      "56600     This city known for its 24-hour auto race was ...\n",
      "57516     Famous (& rather insulting) adjective for Engl...\n",
      "59780     In literature, restoration refers to the perio...\n",
      "69991     Chronological lists of England's kings are mis...\n",
      "71808     Number of the William who was England's \"Sailo...\n",
      "74235     Barons & churchmen drew up this 1215 document ...\n",
      "79269     He called himself \"king of Great Britain\" afte...\n",
      "80113     England's King Charles II was known by this \"j...\n",
      "80794     England's last Lancastrian king, he was impris...\n",
      "95375     Like England's William I, Aragon's Jaime I won...\n",
      "125822    Famous nickname of the eldest son of England's...\n",
      "143434    This Flemish artist painted a unique triple po...\n",
      "170222    A breed of spaniel is named for England's seco...\n",
      "188559    This style influenced by the Romans is named f...\n",
      "191579    England's King Harold II lost the all-importan...\n",
      "192265    (<a href=\"http://www.j-archive.com/media/2012-...\n",
      "192966                   England's King _____ _____ R. Luce\n",
      "196287    England's Richard III was the last king of thi...\n",
      "Name: Question, dtype: object>\n"
     ]
    }
   ],
   "source": [
    "# Filtering a dataset by a list of words\n",
    "def filter_question(data,words):\n",
    "    # Lowercases all words in the list of words as well as the questions.\n",
    "    # Returns true is in the all of the words list appear in the question.\n",
    "    filter = lambda x : all(word.lower() in x.lower() for word in words)\n",
    "    # Applies the labmda function to the Question column and returns the rows where the function returned True\n",
    "    return data.loc[data.Question.apply(filter)]\n",
    "\n",
    "\n",
    "filtered = filter_question(df,['king',\"england's\"])\n",
    "print(filtered.Question.nunique)"
   ]
  },
  {
   "cell_type": "code",
   "execution_count": 33,
   "id": "fb92fcb3",
   "metadata": {},
   "outputs": [
    {
     "name": "stdout",
     "output_type": "stream",
     "text": [
      "        Show Number   Air Date             Round                  Category  \\\n",
      "34             4680 2004-12-31  Double Jeopardy!               \"X\"s & \"O\"s   \n",
      "56             5957 2010-07-06         Jeopardy!             GEOGRAPHY \"E\"   \n",
      "72             5957 2010-07-06         Jeopardy!              LET'S BOUNCE   \n",
      "113            5957 2010-07-06  Double Jeopardy!                 SEE & SAY   \n",
      "177            3673 2000-07-19         Jeopardy!        FLAGS OF THE WORLD   \n",
      "...             ...        ...               ...                       ...   \n",
      "216777         5070 2006-09-29  Double Jeopardy!           ANCIENT HISTORY   \n",
      "216787         5070 2006-09-29  Double Jeopardy!  TALES OF E.T.A. HOFFMANN   \n",
      "216789         5070 2006-09-29  Double Jeopardy!           ANCIENT HISTORY   \n",
      "216856         5195 2007-03-23  Double Jeopardy!          HAIL TO THE CHEF   \n",
      "216916         4999 2006-05-11  Double Jeopardy!                QUOTATIONS   \n",
      "\n",
      "        Value  \\\n",
      "34        400   \n",
      "56        200   \n",
      "72        600   \n",
      "113      2000   \n",
      "177       100   \n",
      "...       ...   \n",
      "216777    400   \n",
      "216787   2000   \n",
      "216789   1200   \n",
      "216856   1600   \n",
      "216916   2200   \n",
      "\n",
      "                                                                                                                  Question  \\\n",
      "34                   Around 100 A.D. Tacitus wrote a book on how this art of persuasive speaking had declined since Cicero   \n",
      "56                                                                          It's the largest kingdom in the United Kingdom   \n",
      "72                             In this kid's game, you bounce a small rubber ball while picking up 6-pronged metal objects   \n",
      "113                                                   Say the name of  man you see shaking hands with the Premier of China   \n",
      "177                                                                  It's the kingdom whose flag is seen here (Union Jack)   \n",
      "...                                                                                                                    ...   \n",
      "216777  The first one of these tombs was built about 2650 B.C. by Imhotep for King Zoser & rose about 200 feet using steps   \n",
      "216787                    A Hoffmann tale title lost the words \"And The Mouse King\" when it became this Tchaikovsky ballet   \n",
      "216789                  This kingdom of England grew from 2 settlements, one founded around 495 by Cerdic & his son Cynric   \n",
      "216856                                                               You can cook like  man who wrote \"The Joy of Wokking\"   \n",
      "216916                                           Oscar Wilde called this 4-letter word \"the curse of the drinking classes\"   \n",
      "\n",
      "                                   Answer  \n",
      "34                                oratory  \n",
      "56                                England  \n",
      "72                                  jacks  \n",
      "113                         Ronald Reagan  \n",
      "177                 Great Britain/England  \n",
      "...                                   ...  \n",
      "216777  a pyramid (the pyramids accepted)  \n",
      "216787                     The Nutcracker  \n",
      "216789                             Wessex  \n",
      "216856                       (Martin) Yan  \n",
      "216916                               work  \n",
      "\n",
      "[7309 rows x 7 columns]\n",
      "768.5708031194417\n",
      "It's the last name of father & son novelists Kingsley & Martin                                                          2\n",
      "John Hoppner, a favorite royal portrait artist of the late 1700s, was rumored to be an illegitimate son of this king    2\n",
      "I Kings uses \"slept with his fathers\" as a euphemism for this                                                           2\n",
      "The black type of this fish with a woman's name is a striking addition to any aquarium                                  2\n",
      "Brother began by making sewing machines; it made its first portable one of these in 1961                                2\n",
      "                                                                                                                       ..\n",
      "Biblical killer's walking sticks                                                                                        1\n",
      "Cross-country skier Bjorn Daehlie of this country won 3 golds, making him the Winter Games all-time leader              1\n",
      "In 1927 Harry Lender began baking these in New Haven, Connecticut                                                       1\n",
      "This country's new president Ahmadinejad may have minored in embassy hostage taking in the 1970s                        1\n",
      "This king had a lot taken off the top January 21, 1793                                                                  1\n",
      "Name: Question, Length: 7292, dtype: int64\n",
      "<bound method Series.unique of 34                                  oratory\n",
      "56                                  England\n",
      "72                                    jacks\n",
      "113                           Ronald Reagan\n",
      "177                   Great Britain/England\n",
      "                        ...                \n",
      "216777    a pyramid (the pyramids accepted)\n",
      "216787                       The Nutcracker\n",
      "216789                               Wessex\n",
      "216856                         (Martin) Yan\n",
      "216916                                 work\n",
      "Name: Answer, Length: 7309, dtype: object>\n"
     ]
    }
   ],
   "source": [
    "new_filtered = filter_question(df.Value ,['king'])\n",
    "print(new_filtered)\n",
    "print(new_filtered.Value.mean())\n",
    "print(new_filtered.Question.value_counts())\n",
    "print(new_filtered.Answer.unique)"
   ]
  },
  {
   "cell_type": "code",
   "execution_count": null,
   "id": "01a6535c",
   "metadata": {},
   "outputs": [],
   "source": []
  }
 ],
 "metadata": {
  "kernelspec": {
   "display_name": "Python 3",
   "language": "python",
   "name": "python3"
  },
  "language_info": {
   "codemirror_mode": {
    "name": "ipython",
    "version": 3
   },
   "file_extension": ".py",
   "mimetype": "text/x-python",
   "name": "python",
   "nbconvert_exporter": "python",
   "pygments_lexer": "ipython3",
   "version": "3.8.8"
  }
 },
 "nbformat": 4,
 "nbformat_minor": 5
}
